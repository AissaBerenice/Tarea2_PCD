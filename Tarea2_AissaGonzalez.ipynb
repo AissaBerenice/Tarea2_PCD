{
 "cells": [
  {
   "metadata": {},
   "cell_type": "code",
   "outputs": [],
   "execution_count": null,
   "source": "",
   "id": "9bf19a3187b6ca11"
  }
 ],
 "metadata": {},
 "nbformat": 4,
 "nbformat_minor": 5
}
