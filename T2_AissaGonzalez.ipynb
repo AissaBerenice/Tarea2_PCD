{
 "cells": [
  {
   "metadata": {},
   "cell_type": "markdown",
   "source": [
    "# <span style=\"color:mediumvioletred\"> **Tarea 2: Trabajando con Github**</span>\n",
    "### **Proyecto de Ciencia de Datos**\n",
    "Aissa Berenice Gonzalez Fosado 752224\n",
    "\n",
    "\n",
    "<img src=\"https://oci02.img.iteso.mx/Identidades-De-Instancia/ITESO/Logos%20ITESO/Logo-ITESO-Principal-Gris.png\"  width=\"300\">"
   ],
   "id": "a0fd398984fcaa22"
  },
  {
   "metadata": {},
   "cell_type": "markdown",
   "source": [
    "# Introducción a MLOps y guía práctica\n",
    "\n",
    "Este notebook explica los fundamentos de MLOps según el artículo de AWS y provee ejemplos prácticos para estructurar un pipeline básico de ML con CI/CD."
   ],
   "id": "7f365d2edb58bde2"
  },
  {
   "metadata": {},
   "cell_type": "markdown",
   "source": [
    "## 1. ¿Qué son las MLOps?\n",
    "\n",
    "- Cultura que integra **Dev** (desarrollo ML) y **Ops** (opera-ción de sistemas ML).\n",
    "- Automatiza y estandariza el ciclo de vida: desarrollo, pruebas, integración, despliegue e infraestructura.\n",
    "- Componentes clave: **CI**, **CD**, **entrenamiento continuo** y **monitoreo continuo**.\n",
    "\n",
    "---\n",
    "\n",
    "## 2. Beneficios principales\n",
    "\n",
    "- **Time-to-market** más rápido.\n",
    "- Mayor **productividad** y reusabilidad.\n",
    "- **Eficiencia y fiabilidad** en producción, control de versiones, trazabilidad.\n",
    "\n",
    "---\n",
    "\n",
    "## 3. Niveles de madurez\n",
    "\n",
    "1. **Nivel 0**: ML manual, sin CI/CD ni monitoreo.\n",
    "2. **Nivel 1**: Automatización de pipelines y reentrenamiento rutinario.\n",
    "3. **Nivel 2** (y superiores): Automatización completa, despliegues frecuentes, monitoreo y gobernanza robusta."
   ],
   "id": "db9f1d197fe7e982"
  }
 ],
 "metadata": {},
 "nbformat": 4,
 "nbformat_minor": 5
}
