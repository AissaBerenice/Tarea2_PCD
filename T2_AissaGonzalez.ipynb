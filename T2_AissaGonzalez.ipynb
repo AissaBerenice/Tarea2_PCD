{
 "cells": [
  {
   "metadata": {},
   "cell_type": "markdown",
   "source": [
    "# <span style=\"color:mediumvioletred\"> **Tarea 2: Trabajando con Github**</span>\n",
    "### **Proyecto de Ciencia de Datos**\n",
    "Aissa Berenice Gonzalez Fosado 752224\n",
    "\n",
    "\n",
    "<img src=\"https://oci02.img.iteso.mx/Identidades-De-Instancia/ITESO/Logos%20ITESO/Logo-ITESO-Principal-Gris.png\"  width=\"300\">"
   ],
   "id": "a0fd398984fcaa22"
  },
  {
   "metadata": {},
   "cell_type": "markdown",
   "source": "",
   "id": "7f365d2edb58bde2"
  }
 ],
 "metadata": {},
 "nbformat": 4,
 "nbformat_minor": 5
}
