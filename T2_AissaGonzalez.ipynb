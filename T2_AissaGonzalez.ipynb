{
 "cells": [
  {
   "metadata": {},
   "cell_type": "markdown",
   "source": "",
   "id": "a0fd398984fcaa22"
  },
  {
   "metadata": {},
   "cell_type": "markdown",
   "source": "",
   "id": "7f365d2edb58bde2"
  }
 ],
 "metadata": {},
 "nbformat": 4,
 "nbformat_minor": 5
}
